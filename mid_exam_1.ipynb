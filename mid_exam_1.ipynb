{
 "cells": [
  {
   "cell_type": "code",
   "execution_count": 130,
   "metadata": {},
   "outputs": [],
   "source": [
    "import numpy as np\n",
    "data = []\n",
    "#读取源数据并且转换成numpy数组\n",
    "with open('/Users/jianghua/Desktop/python_examples_data/report.txt') as f:\n",
    "    for line in f:\n",
    "        data.append(line.split())\n",
    "data = np.array(data)\n",
    "grades = np.array(data[1:,1:],dtype=float) #只对数字成绩进行处理\n",
    "\n",
    "sum_student = np.insert(np.array(grades.sum(axis=1),dtype=str),0,'总分') #算出学生总分后，数据类型改为str，并添加‘总分’\n",
    "sum_student = sum_student.reshape(sum_student.size,1) #算每个学生的总分，并且转换成numpy数组\n",
    "average_student = np.insert(np.array(grades.mean(axis=1),dtype=str),0,'平均分')#同总分\n",
    "average_student = average_student.reshape(average_student.size,1) #每个学生的平均分，并且转换成numpy数组\n",
    "data = np.concatenate((data,sum_student),axis=1)\n",
    "data = np.concatenate((data,average_student),axis=1) #把学生的总分和平均分添加到原数据里\n",
    "#排序，先排序后加入名次\n",
    "average_student = np.array(average_student[1:],dtype=float)\n",
    "rank = np.insert((np.argsort(average_student,axis=0)+1)[::-1],0,0)\n",
    "data = data[rank,:]\n",
    "str_rank = np.concatenate((np.array(['名次'],dtype=str),\\\n",
    "                           np.delete(np.array([i for i in range(data.shape[0])],dtype=str),0)))\\.reshape(data.shape[0],1)\n",
    "data = np.concatenate((str_rank,data),axis=1)\n",
    "#课程平均分\n",
    "temp = np.array(data[1:,2:],dtype=float)\n",
    "course_average = np.insert(np.array(temp.mean(axis=0),dtype=str),0,'平均')\n",
    "course_average = np.insert(course_average,0,'0').reshape(1,data.shape[1])\n",
    "data = np.insert(data,1,course_average,axis=0)\n",
    "#替换60分以下的成绩为不及格\n",
    "temp = np.where(np.array(data[2:,2:-2],dtype=float)<60)\n",
    "fail_index = (temp[0]+2,temp[1]+2)\n",
    "data[fail_index] = '不及格'\n",
    "#数据结构改为列表，浮点数取两位\n",
    "data = data.tolist()\n",
    "def isfloat(string):\n",
    "    try:\n",
    "        float(string)\n",
    "        return True\n",
    "    except ValueError:\n",
    "        return False \n",
    "    \n",
    "for i,row in enumerate(data):\n",
    "    for j,element in enumerate(row):\n",
    "        if isfloat(element):\n",
    "            data[i][j] = '%.2f' %float(element)\n",
    "#写入新文件，文件路径自定义\n",
    "with open('/Users/jianghua/Desktop/python_examples_data/modified_report.txt','w') as f:\n",
    "    for line in data:\n",
    "        f.writelines(' '.join(line)+'\\n')"
   ]
  },
  {
   "cell_type": "code",
   "execution_count": null,
   "metadata": {},
   "outputs": [],
   "source": []
  }
 ],
 "metadata": {
  "kernelspec": {
   "display_name": "Python 3",
   "language": "python",
   "name": "python3"
  },
  "language_info": {
   "codemirror_mode": {
    "name": "ipython",
    "version": 3
   },
   "file_extension": ".py",
   "mimetype": "text/x-python",
   "name": "python",
   "nbconvert_exporter": "python",
   "pygments_lexer": "ipython3",
   "version": "3.6.8"
  }
 },
 "nbformat": 4,
 "nbformat_minor": 2
}
